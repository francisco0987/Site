{
  "nbformat": 4,
  "nbformat_minor": 0,
  "metadata": {
    "colab": {
      "name": "mnist-iniciante.ipynb",
      "provenance": [],
      "collapsed_sections": [],
      "authorship_tag": "ABX9TyMrpBfG9WPB3b4nom/U4dpM",
      "include_colab_link": true
    },
    "kernelspec": {
      "name": "python3",
      "display_name": "Python 3"
    }
  },
  "cells": [
    {
      "cell_type": "markdown",
      "metadata": {
        "id": "view-in-github",
        "colab_type": "text"
      },
      "source": [
        "<a href=\"https://colab.research.google.com/github/francisco0987/Site/blob/master/mnist_iniciante.ipynb\" target=\"_parent\"><img src=\"https://colab.research.google.com/assets/colab-badge.svg\" alt=\"Open In Colab\"/></a>"
      ]
    },
    {
      "cell_type": "code",
      "metadata": {
        "id": "IDlEPEhsAe1H",
        "colab_type": "code",
        "colab": {}
      },
      "source": [
        "import tensorflow as tf"
      ],
      "execution_count": 2,
      "outputs": []
    },
    {
      "cell_type": "code",
      "metadata": {
        "id": "yCPoYhY0A8r4",
        "colab_type": "code",
        "colab": {}
      },
      "source": [
        "# Carregando e preparando o conjunto de dados\n",
        "mnist = tf.keras.datasets.mnist\n",
        "(x_train, y_train), (x_test, y_test) =mnist.load_data()\n",
        "x_train, x_test = x_train / 255.0, x_test / 255.0"
      ],
      "execution_count": 9,
      "outputs": []
    },
    {
      "cell_type": "code",
      "metadata": {
        "id": "Fcy2243nB95b",
        "colab_type": "code",
        "colab": {}
      },
      "source": [
        "# Criando o modelo\n",
        "model = tf.keras.models.Sequential([\n",
        "    tf.keras.layers.Flatten(input_shape=(28, 28)),\n",
        "    tf.keras.layers.Dense(128, activation='relu'),\n",
        "    tf.keras.layers.Dropout(0.2),\n",
        "    tf.keras.layers.Dense(10)                                \n",
        "])"
      ],
      "execution_count": 12,
      "outputs": []
    },
    {
      "cell_type": "code",
      "metadata": {
        "id": "3HMC2E-cDQFT",
        "colab_type": "code",
        "colab": {
          "base_uri": "https://localhost:8080/",
          "height": 68
        },
        "outputId": "f7794ffe-5819-4e65-b427-ebebf1f959c8"
      },
      "source": [
        "predictions = model(x_train[:1]).numpy()\n",
        "predictions"
      ],
      "execution_count": 13,
      "outputs": [
        {
          "output_type": "execute_result",
          "data": {
            "text/plain": [
              "array([[ 0.5266482 ,  0.3089517 , -0.2875143 ,  0.6157279 ,  0.07525381,\n",
              "         0.28574032,  0.5205529 , -0.16008472, -0.12522435,  0.23704225]],\n",
              "      dtype=float32)"
            ]
          },
          "metadata": {
            "tags": []
          },
          "execution_count": 13
        }
      ]
    },
    {
      "cell_type": "code",
      "metadata": {
        "id": "PpoAidl6DmcP",
        "colab_type": "code",
        "colab": {
          "base_uri": "https://localhost:8080/",
          "height": 68
        },
        "outputId": "94cb2c8b-9720-4d68-fc67-c3749a70cb48"
      },
      "source": [
        "# A tf.nn.softmaxfunção converte esses logits em \"probabilidades\"\n",
        "# para cada classe\n",
        "tf.nn.softmax(predictions).numpy()"
      ],
      "execution_count": 14,
      "outputs": [
        {
          "output_type": "execute_result",
          "data": {
            "text/plain": [
              "array([[0.13280267, 0.10682242, 0.05883293, 0.14517559, 0.08456073,\n",
              "        0.10437147, 0.13199565, 0.06682862, 0.06919937, 0.09941056]],\n",
              "      dtype=float32)"
            ]
          },
          "metadata": {
            "tags": []
          },
          "execution_count": 14
        }
      ]
    },
    {
      "cell_type": "code",
      "metadata": {
        "id": "z8LG1g4yEFW2",
        "colab_type": "code",
        "colab": {
          "base_uri": "https://localhost:8080/",
          "height": 34
        },
        "outputId": "580cbaab-6d92-4dd6-f3e7-590c5ea2c36a"
      },
      "source": [
        "#A losses.SparseCategoricalCrossentropyperda pega um vetor de logits \n",
        "#e um Trueíndice e retorna uma perda escalar para cada exemplo.\n",
        "loss_fn = tf.keras.losses.SparseCategoricalCrossentropy(from_logits=True)\n",
        "loss_fn(y_train[:1], predictions).numpy()"
      ],
      "execution_count": 18,
      "outputs": [
        {
          "output_type": "execute_result",
          "data": {
            "text/plain": [
              "2.2597988"
            ]
          },
          "metadata": {
            "tags": []
          },
          "execution_count": 18
        }
      ]
    },
    {
      "cell_type": "code",
      "metadata": {
        "id": "4JSgv7JsEz7a",
        "colab_type": "code",
        "colab": {}
      },
      "source": [
        "# Compilando o modelo\n",
        "model.compile(optimizer='adam',\n",
        "              loss=loss_fn,\n",
        "              metrics=['accuracy'])"
      ],
      "execution_count": 19,
      "outputs": []
    },
    {
      "cell_type": "code",
      "metadata": {
        "id": "NlXfG4KoFIz8",
        "colab_type": "code",
        "colab": {
          "base_uri": "https://localhost:8080/",
          "height": 224
        },
        "outputId": "2b4be16c-65c5-4875-bf12-986e72477588"
      },
      "source": [
        "# O Model.fitmétodo ajusta os parâmetros do modelo para minimizar a perda:\n",
        "model.fit(x_train, y_train, epochs=5)"
      ],
      "execution_count": 21,
      "outputs": [
        {
          "output_type": "stream",
          "text": [
            "Epoch 1/5\n",
            "1875/1875 [==============================] - 4s 2ms/step - loss: 0.2929 - accuracy: 0.9151\n",
            "Epoch 2/5\n",
            "1875/1875 [==============================] - 4s 2ms/step - loss: 0.1424 - accuracy: 0.9578\n",
            "Epoch 3/5\n",
            "1875/1875 [==============================] - 4s 2ms/step - loss: 0.1080 - accuracy: 0.9672\n",
            "Epoch 4/5\n",
            "1875/1875 [==============================] - 4s 2ms/step - loss: 0.0888 - accuracy: 0.9728\n",
            "Epoch 5/5\n",
            "1875/1875 [==============================] - 4s 2ms/step - loss: 0.0748 - accuracy: 0.9766\n"
          ],
          "name": "stdout"
        },
        {
          "output_type": "execute_result",
          "data": {
            "text/plain": [
              "<tensorflow.python.keras.callbacks.History at 0x7f771ab3f0b8>"
            ]
          },
          "metadata": {
            "tags": []
          },
          "execution_count": 21
        }
      ]
    },
    {
      "cell_type": "code",
      "metadata": {
        "id": "iRpiWAN-Fy8a",
        "colab_type": "code",
        "colab": {
          "base_uri": "https://localhost:8080/",
          "height": 51
        },
        "outputId": "c7988079-ffb3-4d69-c444-33644716d093"
      },
      "source": [
        "# O Model.evaluatemétodo verifica o desempenho dos modelos, geralmente \n",
        "#em um \" conjunto de validação \" ou \" conjunto de teste \".\n",
        "model.evaluate(x_test, y_test, verbose=2)"
      ],
      "execution_count": 23,
      "outputs": [
        {
          "output_type": "stream",
          "text": [
            "313/313 - 0s - loss: 0.0725 - accuracy: 0.9787\n"
          ],
          "name": "stdout"
        },
        {
          "output_type": "execute_result",
          "data": {
            "text/plain": [
              "[0.07250433415174484, 0.9786999821662903]"
            ]
          },
          "metadata": {
            "tags": []
          },
          "execution_count": 23
        }
      ]
    },
    {
      "cell_type": "code",
      "metadata": {
        "id": "1reQqP5dGjPS",
        "colab_type": "code",
        "colab": {}
      },
      "source": [
        "# Faz o modelo retorna uma probabilidade\n",
        "probability_model = tf.keras.Sequential([\n",
        "     model,\n",
        "     tf.keras.layers.Softmax()                                    \n",
        "])"
      ],
      "execution_count": 24,
      "outputs": []
    },
    {
      "cell_type": "code",
      "metadata": {
        "id": "ZKFhGuTSG-ds",
        "colab_type": "code",
        "colab": {
          "base_uri": "https://localhost:8080/",
          "height": 289
        },
        "outputId": "0ac2a5d0-28f9-4b9a-ee17-829fe6e4a686"
      },
      "source": [
        "probability_model(x_test[:5])"
      ],
      "execution_count": 25,
      "outputs": [
        {
          "output_type": "execute_result",
          "data": {
            "text/plain": [
              "<tf.Tensor: shape=(5, 10), dtype=float32, numpy=\n",
              "array([[1.6400772e-07, 1.8458735e-08, 1.0796246e-05, 1.0742547e-04,\n",
              "        1.5170380e-10, 1.0638225e-07, 7.7950466e-13, 9.9987948e-01,\n",
              "        4.2303430e-08, 2.0180846e-06],\n",
              "       [7.5133155e-10, 1.2067551e-03, 9.9849451e-01, 2.9801292e-04,\n",
              "        2.9222939e-15, 3.3655088e-08, 4.9209004e-10, 1.1628224e-12,\n",
              "        7.6654675e-07, 1.8037526e-14],\n",
              "       [5.6369566e-07, 9.9932182e-01, 1.0627848e-04, 1.3253560e-05,\n",
              "        4.2302487e-05, 4.1164881e-06, 2.8349075e-05, 4.4741668e-04,\n",
              "        3.5137480e-05, 6.8628555e-07],\n",
              "       [9.9954957e-01, 8.0838319e-08, 2.4988307e-05, 7.9882165e-07,\n",
              "        6.7443597e-07, 1.2959653e-04, 2.7704320e-04, 1.3603241e-05,\n",
              "        3.6695575e-08, 3.4941245e-06],\n",
              "       [3.7052923e-06, 3.9485609e-08, 2.5383843e-05, 1.9649507e-07,\n",
              "        9.7244722e-01, 1.7131839e-05, 1.0736061e-04, 1.3902495e-04,\n",
              "        4.8622305e-06, 2.7255079e-02]], dtype=float32)>"
            ]
          },
          "metadata": {
            "tags": []
          },
          "execution_count": 25
        }
      ]
    },
    {
      "cell_type": "code",
      "metadata": {
        "id": "zcMuIRfSIP4e",
        "colab_type": "code",
        "colab": {}
      },
      "source": [
        ""
      ],
      "execution_count": null,
      "outputs": []
    }
  ]
}